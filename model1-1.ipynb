{
 "cells": [
  {
   "cell_type": "markdown",
   "metadata": {},
   "source": [
    "# 必要なライブラリのインポート\n",
    "import pandas as pd\n",
    "import numpy as np\n",
    "from sklearn.model_selection import train_test_split\n",
    "from sklearn.linear_model import LinearRegression\n",
    "from sklearn.metrics import mean_squared_error, r2_score"
   ]
  },
  {
   "cell_type": "code",
   "execution_count": 2,
   "metadata": {},
   "outputs": [],
   "source": [
    "import pandas as pd\n",
    "import numpy as np\n",
    "from sklearn.model_selection import train_test_split\n",
    "from sklearn.linear_model import LinearRegression\n",
    "from sklearn.metrics import mean_squared_error, r2_score"
   ]
  },
  {
   "cell_type": "markdown",
   "metadata": {},
   "source": [
    "# データの読み込み\n",
    "df = pd.read_csv('output1.csv')\n",
    "df.head()"
   ]
  },
  {
   "cell_type": "code",
   "execution_count": 3,
   "metadata": {},
   "outputs": [
    {
     "data": {
      "text/html": [
       "<div>\n",
       "<style scoped>\n",
       "    .dataframe tbody tr th:only-of-type {\n",
       "        vertical-align: middle;\n",
       "    }\n",
       "\n",
       "    .dataframe tbody tr th {\n",
       "        vertical-align: top;\n",
       "    }\n",
       "\n",
       "    .dataframe thead th {\n",
       "        text-align: right;\n",
       "    }\n",
       "</style>\n",
       "<table border=\"1\" class=\"dataframe\">\n",
       "  <thead>\n",
       "    <tr style=\"text-align: right;\">\n",
       "      <th></th>\n",
       "      <th>date</th>\n",
       "      <th>hour</th>\n",
       "      <th>is_weekend_or_holiday</th>\n",
       "      <th>event_flag</th>\n",
       "      <th>name</th>\n",
       "      <th>current_crawds</th>\n",
       "      <th>weather_code</th>\n",
       "      <th>temperature</th>\n",
       "      <th>humidity</th>\n",
       "      <th>cloud</th>\n",
       "      <th>chance_of_rain</th>\n",
       "    </tr>\n",
       "  </thead>\n",
       "  <tbody>\n",
       "    <tr>\n",
       "      <th>0</th>\n",
       "      <td>2024-06-07</td>\n",
       "      <td>20:00</td>\n",
       "      <td>0</td>\n",
       "      <td>0</td>\n",
       "      <td>NaN</td>\n",
       "      <td>51.62</td>\n",
       "      <td>1000</td>\n",
       "      <td>21.5</td>\n",
       "      <td>64</td>\n",
       "      <td>14</td>\n",
       "      <td>0</td>\n",
       "    </tr>\n",
       "    <tr>\n",
       "      <th>1</th>\n",
       "      <td>2024-06-07</td>\n",
       "      <td>21:00</td>\n",
       "      <td>0</td>\n",
       "      <td>0</td>\n",
       "      <td>NaN</td>\n",
       "      <td>39.04</td>\n",
       "      <td>1000</td>\n",
       "      <td>21.0</td>\n",
       "      <td>66</td>\n",
       "      <td>20</td>\n",
       "      <td>0</td>\n",
       "    </tr>\n",
       "    <tr>\n",
       "      <th>2</th>\n",
       "      <td>2024-06-07</td>\n",
       "      <td>22:00</td>\n",
       "      <td>0</td>\n",
       "      <td>0</td>\n",
       "      <td>NaN</td>\n",
       "      <td>20.54</td>\n",
       "      <td>1000</td>\n",
       "      <td>20.7</td>\n",
       "      <td>68</td>\n",
       "      <td>18</td>\n",
       "      <td>0</td>\n",
       "    </tr>\n",
       "    <tr>\n",
       "      <th>3</th>\n",
       "      <td>2024-06-08</td>\n",
       "      <td>10:00</td>\n",
       "      <td>1</td>\n",
       "      <td>0</td>\n",
       "      <td>NaN</td>\n",
       "      <td>13.14</td>\n",
       "      <td>1003</td>\n",
       "      <td>22.9</td>\n",
       "      <td>50</td>\n",
       "      <td>33</td>\n",
       "      <td>0</td>\n",
       "    </tr>\n",
       "    <tr>\n",
       "      <th>4</th>\n",
       "      <td>2024-06-08</td>\n",
       "      <td>11:00</td>\n",
       "      <td>1</td>\n",
       "      <td>0</td>\n",
       "      <td>NaN</td>\n",
       "      <td>13.14</td>\n",
       "      <td>1000</td>\n",
       "      <td>23.9</td>\n",
       "      <td>44</td>\n",
       "      <td>7</td>\n",
       "      <td>0</td>\n",
       "    </tr>\n",
       "  </tbody>\n",
       "</table>\n",
       "</div>"
      ],
      "text/plain": [
       "         date   hour  is_weekend_or_holiday  event_flag name  current_crawds  \\\n",
       "0  2024-06-07  20:00                      0           0  NaN           51.62   \n",
       "1  2024-06-07  21:00                      0           0  NaN           39.04   \n",
       "2  2024-06-07  22:00                      0           0  NaN           20.54   \n",
       "3  2024-06-08  10:00                      1           0  NaN           13.14   \n",
       "4  2024-06-08  11:00                      1           0  NaN           13.14   \n",
       "\n",
       "   weather_code  temperature  humidity  cloud  chance_of_rain  \n",
       "0          1000         21.5        64     14               0  \n",
       "1          1000         21.0        66     20               0  \n",
       "2          1000         20.7        68     18               0  \n",
       "3          1003         22.9        50     33               0  \n",
       "4          1000         23.9        44      7               0  "
      ]
     },
     "execution_count": 3,
     "metadata": {},
     "output_type": "execute_result"
    }
   ],
   "source": [
    "# データの読み込み\n",
    "df = pd.read_csv('output1.csv')\n",
    "df.head()"
   ]
  },
  {
   "cell_type": "markdown",
   "metadata": {},
   "source": [
    "# データの前処理\n",
    "df = df.dropna()\n",
    "# 必要に応じて追加の前処理を行う"
   ]
  },
  {
   "cell_type": "code",
   "execution_count": 8,
   "metadata": {},
   "outputs": [],
   "source": [
    "# データの前処理\n",
    "df = df.dropna()\n",
    "df = df.drop(columns = ['name','date'])\n",
    "\n",
    "# hourカラムの前ゼロをつける処理\n",
    "df['hour'] = df['hour'].apply(lambda x: x.zfill(5) if len(x) < 5 else x)\n",
    "# hourカラムをint型に変換\n",
    "df['hour'] = df['hour'].apply(lambda x: int(x.split(':')[0]))\n",
    "\n",
    "\n",
    "# 必要に応じて追加の前処理を行う\n",
    "# 説明変数と目的変数に分ける\n",
    "X = df.drop('current_crawds', axis=1)\n",
    "y = df['current_crawds']\n",
    "\n",
    "# 訓練データとテストデータに分割する\n",
    "X_train, X_test, y_train, y_test = train_test_split(X, y, test_size=0.2, random_state=42)"
   ]
  },
  {
   "cell_type": "markdown",
   "metadata": {},
   "source": [
    "# 特徴量と目的変数の分割\n",
    "X = df.drop('current_crawds', axis=1)\n",
    "y = df['current_crawds']"
   ]
  },
  {
   "cell_type": "code",
   "execution_count": 9,
   "metadata": {},
   "outputs": [],
   "source": [
    "# 説明変数と目的変数に分ける\n",
    "X = df.drop('current_crawds', axis=1)\n",
    "y = df['current_crawds']"
   ]
  },
  {
   "cell_type": "markdown",
   "metadata": {},
   "source": [
    "# トレーニングデータとテストデータの分割\n",
    "X_train, X_test, y_train, y_test = train_test_split(X, y, test_size=0.2, random_state=42)"
   ]
  },
  {
   "cell_type": "code",
   "execution_count": 10,
   "metadata": {},
   "outputs": [],
   "source": [
    "# 訓練データとテストデータに分割する\n",
    "X_train, X_test, y_train, y_test = train_test_split(X, y, test_size=0.2, random_state=42)"
   ]
  },
  {
   "cell_type": "markdown",
   "metadata": {},
   "source": [
    "# モデルの作成とトレーニング\n",
    "model = LinearRegression()\n",
    "model.fit(X_train, y_train)"
   ]
  },
  {
   "cell_type": "code",
   "execution_count": 11,
   "metadata": {},
   "outputs": [
    {
     "name": "stdout",
     "output_type": "stream",
     "text": [
      "Mean Squared Error: 572.9362079767245\n",
      "R^2 Score: 0.36740794121524856\n"
     ]
    }
   ],
   "source": [
    "# モデルの作成とトレーニング\n",
    "model = LinearRegression()\n",
    "model.fit(X_train, y_train)\n",
    "\n",
    "# テストデータを使って予測\n",
    "y_pred = model.predict(X_test)\n",
    "\n",
    "# モデルの評価\n",
    "mse = mean_squared_error(y_test, y_pred)\n",
    "r2 = r2_score(y_test, y_pred)\n",
    "\n",
    "print(f\"Mean Squared Error: {mse}\")\n",
    "print(f\"R^2 Score: {r2}\")"
   ]
  },
  {
   "cell_type": "markdown",
   "metadata": {},
   "source": [
    "# モデルの評価\n",
    "y_pred = model.predict(X_test)\n",
    "mse = mean_squared_error(y_test, y_pred)\n",
    "r2 = r2_score(y_test, y_pred)\n",
    "print(f'Mean Squared Error: {mse}')\n",
    "print(f'R^2 Score: {r2}')"
   ]
  },
  {
   "cell_type": "code",
   "execution_count": 12,
   "metadata": {},
   "outputs": [
    {
     "name": "stdout",
     "output_type": "stream",
     "text": [
      "Mean Squared Error: 572.9362079767245\n",
      "R^2 Score: 0.36740794121524856\n"
     ]
    }
   ],
   "source": [
    "# モデルの評価\n",
    "mse = mean_squared_error(y_test, y_pred)\n",
    "r2 = r2_score(y_test, y_pred)\n",
    "\n",
    "print(f'Mean Squared Error: {mse}')\n",
    "print(f'R^2 Score: {r2}')"
   ]
  },
  {
   "cell_type": "code",
   "execution_count": null,
   "metadata": {},
   "outputs": [],
   "source": []
  }
 ],
 "metadata": {
  "kernelspec": {
   "display_name": "Python 3 (ipykernel)",
   "language": "python",
   "name": "python3"
  },
  "language_info": {
   "codemirror_mode": {
    "name": "ipython",
    "version": 3
   },
   "file_extension": ".py",
   "mimetype": "text/x-python",
   "name": "python",
   "nbconvert_exporter": "python",
   "pygments_lexer": "ipython3",
   "version": "3.11.7"
  }
 },
 "nbformat": 4,
 "nbformat_minor": 4
}
