{
 "cells": [
  {
   "cell_type": "markdown",
   "id": "3d4e62fe-8fc6-4362-ba6c-6c840554018f",
   "metadata": {},
   "source": [
    "# Settings"
   ]
  },
  {
   "cell_type": "markdown",
   "id": "f52a66ef-b9cb-43e2-903e-700ce6e986fe",
   "metadata": {},
   "source": [
    "## Library Import"
   ]
  },
  {
   "cell_type": "code",
   "execution_count": 53,
   "id": "88b75226-a0a2-4015-bb5d-05625c48cc1c",
   "metadata": {},
   "outputs": [],
   "source": [
    "import warnings\n",
    "warnings.simplefilter('ignore')\n",
    "\n",
    "import datetime\n",
    "import pandas as pd\n",
    "import numpy as np\n",
    "\n",
    "import pickle\n",
    "\n",
    "import matplotlib.pyplot as plt\n",
    "import seaborn as sns\n",
    "\n",
    "from sklearn.model_selection import StratifiedKFold, GroupKFold, KFold, StratifiedShuffleSplit\n",
    "from sklearn.base import BaseEstimator, ClassifierMixin, RegressorMixin\n",
    "from sklearn.inspection import permutation_importance, partial_dependence\n",
    "import lightgbm as lgb\n",
    "from lightgbm import LGBMClassifier, LGBMRegressor\n",
    "from sklearn.metrics import average_precision_score, f1_score, confusion_matrix, accuracy_score, precision_score, recall_score"
   ]
  },
  {
   "cell_type": "markdown",
   "id": "9b28f4c6-1069-446c-b420-c59169304a38",
   "metadata": {},
   "source": [
    "# Data Load"
   ]
  },
  {
   "cell_type": "code",
   "execution_count": 13,
   "id": "bc3a66e4-bbb2-477a-b538-04f15ac914eb",
   "metadata": {},
   "outputs": [],
   "source": [
    "train = pd.read_csv(\"train_20240719.csv\")"
   ]
  },
  {
   "cell_type": "code",
   "execution_count": 14,
   "id": "cc44023e-ddd7-4d2a-b87d-e10dff69bdd9",
   "metadata": {},
   "outputs": [
    {
     "data": {
      "text/html": [
       "<div>\n",
       "<style scoped>\n",
       "    .dataframe tbody tr th:only-of-type {\n",
       "        vertical-align: middle;\n",
       "    }\n",
       "\n",
       "    .dataframe tbody tr th {\n",
       "        vertical-align: top;\n",
       "    }\n",
       "\n",
       "    .dataframe thead th {\n",
       "        text-align: right;\n",
       "    }\n",
       "</style>\n",
       "<table border=\"1\" class=\"dataframe\">\n",
       "  <thead>\n",
       "    <tr style=\"text-align: right;\">\n",
       "      <th></th>\n",
       "      <th>date</th>\n",
       "      <th>hour</th>\n",
       "      <th>crawds_level</th>\n",
       "      <th>weekday</th>\n",
       "      <th>arena_start_time_in_0</th>\n",
       "      <th>arena_max_price_0</th>\n",
       "      <th>arena_min_price_0</th>\n",
       "      <th>arena_num_of_people_0</th>\n",
       "      <th>arena_start_time_in_1</th>\n",
       "      <th>arena_max_price_1</th>\n",
       "      <th>...</th>\n",
       "      <th>garden_theater_num_of_people_1</th>\n",
       "      <th>garden_theater_start_time_in_2</th>\n",
       "      <th>garden_theater_max_price_2</th>\n",
       "      <th>garden_theater_min_price_2</th>\n",
       "      <th>garden_theater_num_of_people_2</th>\n",
       "      <th>temperature</th>\n",
       "      <th>humidity</th>\n",
       "      <th>cloud</th>\n",
       "      <th>chance_of_rain</th>\n",
       "      <th>weather</th>\n",
       "    </tr>\n",
       "  </thead>\n",
       "  <tbody>\n",
       "    <tr>\n",
       "      <th>0</th>\n",
       "      <td>2024-05-24</td>\n",
       "      <td>8</td>\n",
       "      <td>1</td>\n",
       "      <td>4</td>\n",
       "      <td>NaN</td>\n",
       "      <td>NaN</td>\n",
       "      <td>NaN</td>\n",
       "      <td>NaN</td>\n",
       "      <td>NaN</td>\n",
       "      <td>NaN</td>\n",
       "      <td>...</td>\n",
       "      <td>NaN</td>\n",
       "      <td>NaN</td>\n",
       "      <td>NaN</td>\n",
       "      <td>NaN</td>\n",
       "      <td>NaN</td>\n",
       "      <td>21.4</td>\n",
       "      <td>70</td>\n",
       "      <td>8</td>\n",
       "      <td>0</td>\n",
       "      <td>1</td>\n",
       "    </tr>\n",
       "    <tr>\n",
       "      <th>1</th>\n",
       "      <td>2024-05-24</td>\n",
       "      <td>9</td>\n",
       "      <td>1</td>\n",
       "      <td>4</td>\n",
       "      <td>NaN</td>\n",
       "      <td>NaN</td>\n",
       "      <td>NaN</td>\n",
       "      <td>NaN</td>\n",
       "      <td>NaN</td>\n",
       "      <td>NaN</td>\n",
       "      <td>...</td>\n",
       "      <td>NaN</td>\n",
       "      <td>NaN</td>\n",
       "      <td>NaN</td>\n",
       "      <td>NaN</td>\n",
       "      <td>NaN</td>\n",
       "      <td>22.0</td>\n",
       "      <td>66</td>\n",
       "      <td>92</td>\n",
       "      <td>0</td>\n",
       "      <td>2</td>\n",
       "    </tr>\n",
       "    <tr>\n",
       "      <th>2</th>\n",
       "      <td>2024-05-24</td>\n",
       "      <td>10</td>\n",
       "      <td>2</td>\n",
       "      <td>4</td>\n",
       "      <td>NaN</td>\n",
       "      <td>NaN</td>\n",
       "      <td>NaN</td>\n",
       "      <td>NaN</td>\n",
       "      <td>NaN</td>\n",
       "      <td>NaN</td>\n",
       "      <td>...</td>\n",
       "      <td>NaN</td>\n",
       "      <td>NaN</td>\n",
       "      <td>NaN</td>\n",
       "      <td>NaN</td>\n",
       "      <td>NaN</td>\n",
       "      <td>22.6</td>\n",
       "      <td>62</td>\n",
       "      <td>100</td>\n",
       "      <td>0</td>\n",
       "      <td>2</td>\n",
       "    </tr>\n",
       "    <tr>\n",
       "      <th>3</th>\n",
       "      <td>2024-05-24</td>\n",
       "      <td>11</td>\n",
       "      <td>1</td>\n",
       "      <td>4</td>\n",
       "      <td>NaN</td>\n",
       "      <td>NaN</td>\n",
       "      <td>NaN</td>\n",
       "      <td>NaN</td>\n",
       "      <td>NaN</td>\n",
       "      <td>NaN</td>\n",
       "      <td>...</td>\n",
       "      <td>NaN</td>\n",
       "      <td>NaN</td>\n",
       "      <td>NaN</td>\n",
       "      <td>NaN</td>\n",
       "      <td>NaN</td>\n",
       "      <td>23.7</td>\n",
       "      <td>57</td>\n",
       "      <td>100</td>\n",
       "      <td>0</td>\n",
       "      <td>2</td>\n",
       "    </tr>\n",
       "    <tr>\n",
       "      <th>4</th>\n",
       "      <td>2024-05-24</td>\n",
       "      <td>12</td>\n",
       "      <td>1</td>\n",
       "      <td>4</td>\n",
       "      <td>NaN</td>\n",
       "      <td>NaN</td>\n",
       "      <td>NaN</td>\n",
       "      <td>NaN</td>\n",
       "      <td>NaN</td>\n",
       "      <td>NaN</td>\n",
       "      <td>...</td>\n",
       "      <td>NaN</td>\n",
       "      <td>NaN</td>\n",
       "      <td>NaN</td>\n",
       "      <td>NaN</td>\n",
       "      <td>NaN</td>\n",
       "      <td>24.8</td>\n",
       "      <td>53</td>\n",
       "      <td>100</td>\n",
       "      <td>0</td>\n",
       "      <td>2</td>\n",
       "    </tr>\n",
       "  </tbody>\n",
       "</table>\n",
       "<p>5 rows × 33 columns</p>\n",
       "</div>"
      ],
      "text/plain": [
       "         date  hour  crawds_level  weekday  arena_start_time_in_0  \\\n",
       "0  2024-05-24     8             1        4                    NaN   \n",
       "1  2024-05-24     9             1        4                    NaN   \n",
       "2  2024-05-24    10             2        4                    NaN   \n",
       "3  2024-05-24    11             1        4                    NaN   \n",
       "4  2024-05-24    12             1        4                    NaN   \n",
       "\n",
       "   arena_max_price_0  arena_min_price_0  arena_num_of_people_0  \\\n",
       "0                NaN                NaN                    NaN   \n",
       "1                NaN                NaN                    NaN   \n",
       "2                NaN                NaN                    NaN   \n",
       "3                NaN                NaN                    NaN   \n",
       "4                NaN                NaN                    NaN   \n",
       "\n",
       "   arena_start_time_in_1  arena_max_price_1  ...  \\\n",
       "0                    NaN                NaN  ...   \n",
       "1                    NaN                NaN  ...   \n",
       "2                    NaN                NaN  ...   \n",
       "3                    NaN                NaN  ...   \n",
       "4                    NaN                NaN  ...   \n",
       "\n",
       "   garden_theater_num_of_people_1  garden_theater_start_time_in_2  \\\n",
       "0                             NaN                             NaN   \n",
       "1                             NaN                             NaN   \n",
       "2                             NaN                             NaN   \n",
       "3                             NaN                             NaN   \n",
       "4                             NaN                             NaN   \n",
       "\n",
       "   garden_theater_max_price_2  garden_theater_min_price_2  \\\n",
       "0                         NaN                         NaN   \n",
       "1                         NaN                         NaN   \n",
       "2                         NaN                         NaN   \n",
       "3                         NaN                         NaN   \n",
       "4                         NaN                         NaN   \n",
       "\n",
       "   garden_theater_num_of_people_2  temperature  humidity  cloud  \\\n",
       "0                             NaN         21.4        70      8   \n",
       "1                             NaN         22.0        66     92   \n",
       "2                             NaN         22.6        62    100   \n",
       "3                             NaN         23.7        57    100   \n",
       "4                             NaN         24.8        53    100   \n",
       "\n",
       "   chance_of_rain  weather  \n",
       "0               0        1  \n",
       "1               0        2  \n",
       "2               0        2  \n",
       "3               0        2  \n",
       "4               0        2  \n",
       "\n",
       "[5 rows x 33 columns]"
      ]
     },
     "execution_count": 14,
     "metadata": {},
     "output_type": "execute_result"
    }
   ],
   "source": [
    "train.head()"
   ]
  },
  {
   "cell_type": "code",
   "execution_count": 15,
   "id": "9c41855d-75c0-4bdb-aa52-774257b660c7",
   "metadata": {},
   "outputs": [
    {
     "name": "stdout",
     "output_type": "stream",
     "text": [
      "<class 'pandas.core.frame.DataFrame'>\n",
      "RangeIndex: 825 entries, 0 to 824\n",
      "Data columns (total 33 columns):\n",
      " #   Column                          Non-Null Count  Dtype  \n",
      "---  ------                          --------------  -----  \n",
      " 0   date                            825 non-null    object \n",
      " 1   hour                            825 non-null    int64  \n",
      " 2   crawds_level                    825 non-null    int64  \n",
      " 3   weekday                         825 non-null    int64  \n",
      " 4   arena_start_time_in_0           375 non-null    float64\n",
      " 5   arena_max_price_0               315 non-null    float64\n",
      " 6   arena_min_price_0               315 non-null    float64\n",
      " 7   arena_num_of_people_0           375 non-null    float64\n",
      " 8   arena_start_time_in_1           150 non-null    float64\n",
      " 9   arena_max_price_1               150 non-null    float64\n",
      " 10  arena_min_price_1               150 non-null    float64\n",
      " 11  arena_num_of_people_1           150 non-null    float64\n",
      " 12  arena_start_time_in_2           30 non-null     float64\n",
      " 13  arena_max_price_2               30 non-null     float64\n",
      " 14  arena_min_price_2               30 non-null     float64\n",
      " 15  arena_num_of_people_2           30 non-null     float64\n",
      " 16  garden_theater_start_time_in_0  375 non-null    float64\n",
      " 17  garden_theater_max_price_0      375 non-null    float64\n",
      " 18  garden_theater_min_price_0      375 non-null    float64\n",
      " 19  garden_theater_num_of_people_0  375 non-null    float64\n",
      " 20  garden_theater_start_time_in_1  45 non-null     float64\n",
      " 21  garden_theater_max_price_1      45 non-null     float64\n",
      " 22  garden_theater_min_price_1      45 non-null     float64\n",
      " 23  garden_theater_num_of_people_1  45 non-null     float64\n",
      " 24  garden_theater_start_time_in_2  0 non-null      float64\n",
      " 25  garden_theater_max_price_2      0 non-null      float64\n",
      " 26  garden_theater_min_price_2      0 non-null      float64\n",
      " 27  garden_theater_num_of_people_2  0 non-null      float64\n",
      " 28  temperature                     825 non-null    float64\n",
      " 29  humidity                        825 non-null    int64  \n",
      " 30  cloud                           825 non-null    int64  \n",
      " 31  chance_of_rain                  825 non-null    int64  \n",
      " 32  weather                         825 non-null    int64  \n",
      "dtypes: float64(25), int64(7), object(1)\n",
      "memory usage: 212.8+ KB\n"
     ]
    }
   ],
   "source": [
    "train.info()"
   ]
  },
  {
   "cell_type": "markdown",
   "id": "84e38df0-1da0-47ab-a323-166509a56ae3",
   "metadata": {},
   "source": [
    "# Preprocessing"
   ]
  },
  {
   "cell_type": "code",
   "execution_count": null,
   "id": "03e2692e-021b-4e96-b2de-0453ebb9ec8a",
   "metadata": {},
   "outputs": [],
   "source": []
  },
  {
   "cell_type": "markdown",
   "id": "f2609a36-799b-4d64-9d47-43ca5a483441",
   "metadata": {},
   "source": [
    "# Feature Engineering"
   ]
  },
  {
   "cell_type": "markdown",
   "id": "97a50cc1-bb42-44ab-a3ec-0e6f9fff1875",
   "metadata": {},
   "source": [
    "## 混雑状況(目的変数)を２値化"
   ]
  },
  {
   "cell_type": "code",
   "execution_count": 16,
   "id": "f2aa5f07-0a5c-405e-96eb-70b3d30ee4e4",
   "metadata": {},
   "outputs": [],
   "source": [
    "train[\"crawds_level_binary\"] = False\n",
    "train[\"crawds_level_binary\"] = train[\"crawds_level\"]==3"
   ]
  },
  {
   "cell_type": "markdown",
   "id": "e327e8fc-441e-471e-a94d-5e57c8d05e6d",
   "metadata": {},
   "source": [
    "## 休日フラグ"
   ]
  },
  {
   "cell_type": "code",
   "execution_count": 17,
   "id": "01f8e949-cb42-451f-bb33-f168bdd006cf",
   "metadata": {},
   "outputs": [],
   "source": [
    "# 祝日リスト\n",
    "holiday_list = [\"2024-01-01\",\"2024-01-08\",\"2024-02-11\",\"2024-02-12\",\"2024-02-23\",\"2024-03-20\",\"2024-04-29\",\"2024-05-03\",\"2024-05-04\",\"2024-05-05\",\"2024-05-06\",\"2024-07-15\",\"2024-08-11\",\"2024-08-12\",\"2024-09-16\",\"2024-09-22\",\"2024-09-23\",\"2024-10-14\",\"2024-11-03\",\"2024-11-04\",\"2024-11-23\"]"
   ]
  },
  {
   "cell_type": "code",
   "execution_count": 18,
   "id": "27d2748d-3291-4b37-929d-7043612950b0",
   "metadata": {},
   "outputs": [],
   "source": [
    "train[\"holiday\"]=False\n",
    "for index, row in train.iterrows():\n",
    "    # 土日\n",
    "    if train.loc[index,\"weekday\"] == 5 or train.loc[index,\"weekday\"] == 6:\n",
    "        train.loc[index, \"holiday\"] = True\n",
    "    # 祝日\n",
    "    if train.loc[index, \"date\"] in holiday_list:\n",
    "        train.loc[index, \"holiday\"] = True"
   ]
  },
  {
   "cell_type": "markdown",
   "id": "b20486ab-cfd3-4930-b7d8-3e4c155039f7",
   "metadata": {},
   "source": [
    "## イベント有無"
   ]
  },
  {
   "cell_type": "code",
   "execution_count": 19,
   "id": "33c0c878-2b1c-4dcd-b3ae-92e9338a42cc",
   "metadata": {},
   "outputs": [],
   "source": [
    "train[\"event\"] = False\n",
    "for index, row in train.iterrows():\n",
    "    if not (np.isnan(train.loc[index, \"arena_start_time_in_0\"])):\n",
    "        train.loc[index, \"event\"] = True\n",
    "    if not (np.isnan(train.loc[index, \"garden_theater_start_time_in_0\"])):\n",
    "        train.loc[index, \"event\"] = True"
   ]
  },
  {
   "cell_type": "code",
   "execution_count": null,
   "id": "c5f04659-8d09-4825-8fec-8b46b50547df",
   "metadata": {},
   "outputs": [],
   "source": []
  },
  {
   "cell_type": "markdown",
   "id": "7fd9e90e-8920-4498-a59d-01c2dfa415de",
   "metadata": {},
   "source": [
    "## カテゴリ変数"
   ]
  },
  {
   "cell_type": "markdown",
   "id": "7c5f906c-bcb6-4a70-aafd-06f0c3f8d65a",
   "metadata": {},
   "source": [
    "#### weather"
   ]
  },
  {
   "cell_type": "code",
   "execution_count": 21,
   "id": "4d12e095-8f95-4dd5-9818-e08f835d3abe",
   "metadata": {
    "scrolled": true
   },
   "outputs": [],
   "source": [
    "train = pd.get_dummies(train, columns=[\"weather\"])"
   ]
  },
  {
   "cell_type": "code",
   "execution_count": null,
   "id": "0cf2ccf6-55f8-44c3-b534-10769bd6bea0",
   "metadata": {},
   "outputs": [],
   "source": []
  },
  {
   "cell_type": "code",
   "execution_count": null,
   "id": "79742646-d0b8-42b2-93e7-bc0e1d16f8ca",
   "metadata": {},
   "outputs": [],
   "source": []
  },
  {
   "cell_type": "markdown",
   "id": "abf76211-4785-409f-b367-ca988ba5335f",
   "metadata": {},
   "source": [
    "## 説明変数設定"
   ]
  },
  {
   "cell_type": "code",
   "execution_count": 22,
   "id": "b1bf2a0b-8c1d-463d-973e-868e915d7187",
   "metadata": {},
   "outputs": [
    {
     "data": {
      "text/plain": [
       "Index(['date', 'hour', 'crawds_level', 'weekday', 'arena_start_time_in_0',\n",
       "       'arena_max_price_0', 'arena_min_price_0', 'arena_num_of_people_0',\n",
       "       'arena_start_time_in_1', 'arena_max_price_1', 'arena_min_price_1',\n",
       "       'arena_num_of_people_1', 'arena_start_time_in_2', 'arena_max_price_2',\n",
       "       'arena_min_price_2', 'arena_num_of_people_2',\n",
       "       'garden_theater_start_time_in_0', 'garden_theater_max_price_0',\n",
       "       'garden_theater_min_price_0', 'garden_theater_num_of_people_0',\n",
       "       'garden_theater_start_time_in_1', 'garden_theater_max_price_1',\n",
       "       'garden_theater_min_price_1', 'garden_theater_num_of_people_1',\n",
       "       'garden_theater_start_time_in_2', 'garden_theater_max_price_2',\n",
       "       'garden_theater_min_price_2', 'garden_theater_num_of_people_2',\n",
       "       'temperature', 'humidity', 'cloud', 'chance_of_rain',\n",
       "       'crawds_level_binary', 'holiday', 'event', 'weather_1', 'weather_2',\n",
       "       'weather_3', 'weather_4'],\n",
       "      dtype='object')"
      ]
     },
     "execution_count": 22,
     "metadata": {},
     "output_type": "execute_result"
    }
   ],
   "source": [
    "train.columns"
   ]
  },
  {
   "cell_type": "code",
   "execution_count": 27,
   "id": "265e8d7f-3994-45d3-bd8c-1fadbcd0477b",
   "metadata": {},
   "outputs": [],
   "source": [
    "feature_cols = train.columns.tolist()\n",
    "feature_cols.remove(\"date\")\n",
    "feature_cols.remove(\"crawds_level\")\n",
    "feature_cols.remove(\"weekday\")\n",
    "feature_cols.remove(\"crawds_level_binary\")"
   ]
  },
  {
   "cell_type": "code",
   "execution_count": null,
   "id": "0ec13a67-fbdc-41ac-88d9-95388bf0de55",
   "metadata": {},
   "outputs": [],
   "source": []
  },
  {
   "cell_type": "markdown",
   "id": "9697cc0a-b050-4884-9355-05ae33b609ff",
   "metadata": {},
   "source": [
    "# Training"
   ]
  },
  {
   "cell_type": "code",
   "execution_count": 28,
   "id": "a6cb7a34-243c-43d1-bd3f-49d1e9fd00e2",
   "metadata": {},
   "outputs": [],
   "source": [
    "target_col=\"crawds_level_binary\""
   ]
  },
  {
   "cell_type": "code",
   "execution_count": 35,
   "id": "afb131f3-4409-48ae-bdc6-00aa15aa0213",
   "metadata": {},
   "outputs": [
    {
     "data": {
      "text/html": [
       "<div>\n",
       "<style scoped>\n",
       "    .dataframe tbody tr th:only-of-type {\n",
       "        vertical-align: middle;\n",
       "    }\n",
       "\n",
       "    .dataframe tbody tr th {\n",
       "        vertical-align: top;\n",
       "    }\n",
       "\n",
       "    .dataframe thead th {\n",
       "        text-align: right;\n",
       "    }\n",
       "</style>\n",
       "<table border=\"1\" class=\"dataframe\">\n",
       "  <thead>\n",
       "    <tr style=\"text-align: right;\">\n",
       "      <th></th>\n",
       "      <th>fold</th>\n",
       "      <th>crawds_level_binary</th>\n",
       "    </tr>\n",
       "  </thead>\n",
       "  <tbody>\n",
       "    <tr>\n",
       "      <th>0</th>\n",
       "      <td>1</td>\n",
       "      <td>31</td>\n",
       "    </tr>\n",
       "    <tr>\n",
       "      <th>1</th>\n",
       "      <td>2</td>\n",
       "      <td>30</td>\n",
       "    </tr>\n",
       "    <tr>\n",
       "      <th>2</th>\n",
       "      <td>3</td>\n",
       "      <td>31</td>\n",
       "    </tr>\n",
       "    <tr>\n",
       "      <th>3</th>\n",
       "      <td>4</td>\n",
       "      <td>31</td>\n",
       "    </tr>\n",
       "  </tbody>\n",
       "</table>\n",
       "</div>"
      ],
      "text/plain": [
       "   fold  crawds_level_binary\n",
       "0     1                   31\n",
       "1     2                   30\n",
       "2     3                   31\n",
       "3     4                   31"
      ]
     },
     "metadata": {},
     "output_type": "display_data"
    }
   ],
   "source": [
    "kf = StratifiedKFold(\n",
    "    n_splits = 4,\n",
    "    random_state = 42,\n",
    "    shuffle=True\n",
    ")\n",
    "train['fold']=-1\n",
    "\n",
    "for fold, (t,v) in enumerate(kf.split(train, train[target_col])):\n",
    "    train.loc[v, 'fold'] = fold+1\n",
    "\n",
    "train['fold'] = train['fold'].astype('int')\n",
    "display(train.groupby('fold')[target_col].agg('sum').reset_index())"
   ]
  },
  {
   "cell_type": "code",
   "execution_count": 36,
   "id": "e48885c6-51ab-4817-8ccb-67a9f70a3541",
   "metadata": {},
   "outputs": [
    {
     "name": "stdout",
     "output_type": "stream",
     "text": [
      "feature_cols: 35\n"
     ]
    }
   ],
   "source": [
    "print(f'feature_cols: {len(feature_cols)}')"
   ]
  },
  {
   "cell_type": "code",
   "execution_count": 37,
   "id": "17cfd2e7-6f37-4d6e-8f3c-47781bbe2254",
   "metadata": {},
   "outputs": [],
   "source": [
    "def calc_metric(y_true, y_pred, th=0.5):\n",
    "    y_pred = np.where(y_pred>th,1,0)\n",
    "    score = f1_score(y_true, y_pred, average='macro')\n",
    "    return score"
   ]
  },
  {
   "cell_type": "code",
   "execution_count": null,
   "id": "5fff1220-1688-4d64-9cce-a41b42ed44f5",
   "metadata": {},
   "outputs": [],
   "source": []
  },
  {
   "cell_type": "code",
   "execution_count": 58,
   "id": "03f7902f-2d94-4be4-bac0-401dd09cc191",
   "metadata": {
    "scrolled": true
   },
   "outputs": [
    {
     "name": "stdout",
     "output_type": "stream",
     "text": [
      "∞∞∞∞∞∞∞∞∞∞∞∞∞∞∞∞∞∞∞∞∞∞∞ Fold1 ∞∞∞∞∞∞∞∞∞∞∞∞∞∞∞∞∞∞∞∞∞\n",
      "X_train: (618, 35), X_valid: (207, 35)\n",
      "Training until validation scores don't improve for 100 rounds\n",
      "Did not meet early stopping. Best iteration is:\n",
      "[17]\ttraining's binary_logloss: 0.171762\tvalid_1's binary_logloss: 0.308533\n",
      "[[171   5]\n",
      " [ 23   8]]\n",
      "acc:0.864734, pre:0.615385, rec:0.258065, f1:0.363636\n",
      "∞∞∞∞∞∞∞∞∞∞∞∞∞∞∞∞∞∞∞∞∞∞∞ Fold2 ∞∞∞∞∞∞∞∞∞∞∞∞∞∞∞∞∞∞∞∞∞\n",
      "X_train: (619, 35), X_valid: (206, 35)\n",
      "Training until validation scores don't improve for 100 rounds\n",
      "Did not meet early stopping. Best iteration is:\n",
      "[21]\ttraining's binary_logloss: 0.164059\tvalid_1's binary_logloss: 0.255387\n",
      "[[167   9]\n",
      " [ 14  16]]\n",
      "acc:0.888350, pre:0.640000, rec:0.533333, f1:0.581818\n",
      "∞∞∞∞∞∞∞∞∞∞∞∞∞∞∞∞∞∞∞∞∞∞∞ Fold3 ∞∞∞∞∞∞∞∞∞∞∞∞∞∞∞∞∞∞∞∞∞\n",
      "X_train: (619, 35), X_valid: (206, 35)\n",
      "Training until validation scores don't improve for 100 rounds\n",
      "Did not meet early stopping. Best iteration is:\n",
      "[38]\ttraining's binary_logloss: 0.101191\tvalid_1's binary_logloss: 0.215914\n",
      "[[169   6]\n",
      " [ 15  16]]\n",
      "acc:0.898058, pre:0.727273, rec:0.516129, f1:0.603774\n",
      "∞∞∞∞∞∞∞∞∞∞∞∞∞∞∞∞∞∞∞∞∞∞∞ Fold4 ∞∞∞∞∞∞∞∞∞∞∞∞∞∞∞∞∞∞∞∞∞\n",
      "X_train: (619, 35), X_valid: (206, 35)\n",
      "Training until validation scores don't improve for 100 rounds\n",
      "Did not meet early stopping. Best iteration is:\n",
      "[29]\ttraining's binary_logloss: 0.134075\tvalid_1's binary_logloss: 0.247348\n",
      "[[164  11]\n",
      " [ 15  16]]\n",
      "acc:0.873786, pre:0.592593, rec:0.516129, f1:0.551724\n",
      "★ 0.73264\n"
     ]
    }
   ],
   "source": [
    "oof = np.zeros(len(train))\n",
    "imp_dfs = []\n",
    "\n",
    "for fold in range(4):\n",
    "    print(f'∞∞∞∞∞∞∞∞∞∞∞∞∞∞∞∞∞∞∞∞∞∞∞ Fold{fold+1} ∞∞∞∞∞∞∞∞∞∞∞∞∞∞∞∞∞∞∞∞∞')\n",
    "\n",
    "    # Data Split\n",
    "    tr_idx = train[train['fold']!=fold+1].index.tolist()\n",
    "    va_idx = train[train['fold']==fold+1].index.tolist()\n",
    "\n",
    "    X_train = train.loc[tr_idx, :]\n",
    "    X_valid = train.loc[va_idx, :]\n",
    "    y_train = train.loc[tr_idx, target_col]\n",
    "    y_valid = train.loc[va_idx, target_col]\n",
    "\n",
    "    X_train = X_train[feature_cols]\n",
    "    X_valid = X_valid[feature_cols]\n",
    "    print(f'X_train: {X_train.shape}, X_valid: {X_valid.shape}')\n",
    "\n",
    "    model = LGBMClassifier(verbose=-1)\n",
    "    \n",
    "    if False:\n",
    "        callbacks = [\n",
    "            lgb.early_stopping(stopping_rounds=100, verbose=True),\n",
    "            wandb_callback(),\n",
    "        ]\n",
    "    else:\n",
    "        callbacks = [\n",
    "            lgb.early_stopping(stopping_rounds=100, verbose=True),\n",
    "        ]\n",
    "        \n",
    "    # 学習 -> fitで実施\n",
    "    model.fit(\n",
    "        X_train,\n",
    "        y_train,\n",
    "        eval_set = [(X_train, y_train), (X_valid, y_valid)],\n",
    "        # eval_names = [f\"fold{fold+1}/{c}/train\", f\"fold{fold+1}/{c}/valid\"],\n",
    "        feature_name = X_train.columns.tolist(),\n",
    "#            verbose = -1,\n",
    "        callbacks = callbacks\n",
    "    )\n",
    "    \n",
    "    # validationに対する評価\n",
    "    valid_pred = model.predict_proba(X_valid)[:,1]\n",
    "    valid_pred_binary = model.predict(X_valid)\n",
    "    # valid_score = calc_metric(y_valid, valid_pred, th=0.5)\n",
    "    # print(f\"  Fold{fold+1} Score: {valid_score:.5f}\")\n",
    "    print(confusion_matrix(y_valid, valid_pred_binary))\n",
    "    print(\"acc:{:3f}, pre:{:3f}, rec:{:3f}, f1:{:3f}\".format(accuracy_score(y_valid, valid_pred_binary), precision_score(y_valid, valid_pred_binary), recall_score(y_valid, valid_pred_binary), f1_score(y_valid, valid_pred_binary)))\n",
    "    oof[va_idx] += valid_pred\n",
    "    \n",
    "    # Feature Importance\n",
    "    # Gain Importance, Permutation Importance の値を取得\n",
    "    f_imp = model.feature_importances_\n",
    "    tmp_importance = pd.DataFrame()\n",
    "    tmp_importance[\"feature\"] = feature_cols\n",
    "    tmp_importance[\"gain\"] = f_imp\n",
    "    tmp_importance[\"fold\"] = fold+1\n",
    "    imp_dfs.append(tmp_importance)\n",
    "    \n",
    "    # 学習したモデルを保存 -> save\n",
    "    MODEL_PATH = f\"model/baseline_fold{fold+1}_model.pkl\"\n",
    "    pickle.dump(model, open(MODEL_PATH, 'wb'))\n",
    "    \n",
    "c_score = calc_metric(train[target_col], oof[:])\n",
    "print(f'★ {c_score:.5f}')\n",
    "    \n",
    "imp_df = pd.concat(imp_dfs, axis=0, ignore_index=True)"
   ]
  },
  {
   "cell_type": "code",
   "execution_count": 47,
   "id": "ae7b74f1-c605-445a-8862-931837b682f0",
   "metadata": {},
   "outputs": [
    {
     "data": {
      "image/png": "[encoded data removed]",
      "text/plain": [
       "<Figure size 2000x600 with 1 Axes>"
      ]
     },
     "metadata": {},
     "output_type": "display_data"
    }
   ],
   "source": [
    "# Feature Importance\n",
    "mean_importance = imp_df.groupby('feature')['gain'].agg('mean')\n",
    "mean_importance - mean_importance.sort_values(ascending=False)\n",
    "importance_list = mean_importance.index.tolist()\n",
    "\n",
    "plt.figure(figsize=(20,6), tight_layout=True)\n",
    "sns.boxplot(\n",
    "    data=imp_df[imp_df['feature'].isin(importance_list)].sort_values('gain', ascending=False),\n",
    "    x='feature',\n",
    "    y='gain'\n",
    ")\n",
    "plt.xticks(rotation=90)\n",
    "plt.title(\"Feature Importance Gain LightGBM\")\n",
    "# plt.savefig(OUTPUT_DIR / \"feature_importances.png\")\n",
    "plt.show()"
   ]
  },
  {
   "cell_type": "code",
   "execution_count": 49,
   "id": "3c996922-7848-4dc2-bb4d-1d82bf83a7eb",
   "metadata": {},
   "outputs": [
    {
     "name": "stdout",
     "output_type": "stream",
     "text": [
      "++++++++++++++++++++++++++++++++++++++++\n",
      "th0.00 PRAUC: 0.6107 F1Score: 0.1297\n",
      "++++++++++++++++++++++++++++++++++++++++\n",
      "th0.10 PRAUC: 0.6107 F1Score: 0.7275\n",
      "++++++++++++++++++++++++++++++++++++++++\n",
      "th0.20 PRAUC: 0.6107 F1Score: 0.7863\n",
      "++++++++++++++++++++++++++++++++++++++++\n",
      "th0.30 PRAUC: 0.6107 F1Score: 0.7846\n",
      "++++++++++++++++++++++++++++++++++++++++\n",
      "th0.40 PRAUC: 0.6107 F1Score: 0.7789\n",
      "++++++++++++++++++++++++++++++++++++++++\n",
      "th0.50 PRAUC: 0.6107 F1Score: 0.7326\n",
      "++++++++++++++++++++++++++++++++++++++++\n",
      "th0.60 PRAUC: 0.6107 F1Score: 0.7169\n",
      "++++++++++++++++++++++++++++++++++++++++\n",
      "th0.70 PRAUC: 0.6107 F1Score: 0.6068\n",
      "++++++++++++++++++++++++++++++++++++++++\n",
      "th0.80 PRAUC: 0.6107 F1Score: 0.5264\n",
      "++++++++++++++++++++++++++++++++++++++++\n",
      "th0.90 PRAUC: 0.6107 F1Score: 0.4763\n"
     ]
    }
   ],
   "source": [
    "# 閾値を 0~0.9まで0.1刻みで振ってみる\n",
    "\n",
    "oof_preds = []\n",
    "oof_labels = []\n",
    "\n",
    "oof_scores = []\n",
    "ths = []\n",
    "\n",
    "for i in range(10):\n",
    "    th = i/10\n",
    "    \n",
    "    oof_preds.extend(list(oof[:]))\n",
    "    oof_labels.extend(train['crawds_level_binary'].tolist())\n",
    "    \n",
    "    prauc = average_precision_score(\n",
    "        train['crawds_level_binary'],\n",
    "        oof[:]\n",
    "    )\n",
    "    \n",
    "    fscore = f1_score(\n",
    "        train['crawds_level_binary'],\n",
    "        [1 if i>th else 0 for i in oof[:]]\n",
    "        , average='macro'\n",
    "    )\n",
    "        \n",
    "    tmp_prauc = average_precision_score(\n",
    "        oof_labels,\n",
    "        oof_preds\n",
    "    )\n",
    "    \n",
    "    tmp_fscore = f1_score(\n",
    "        oof_labels,\n",
    "        [1 if i>th else 0 for i in oof_preds]\n",
    "        , average='macro'\n",
    "    )\n",
    "    print('+'*40)\n",
    "    print(f'th{th:.2f} PRAUC: {tmp_prauc:.4f} F1Score: {tmp_fscore:.4f}')\n",
    "    \n",
    "    ths.append(th)\n",
    "    oof_scores.append(tmp_fscore)"
   ]
  },
  {
   "cell_type": "code",
   "execution_count": 63,
   "id": "a0f4a13d-b87a-4c21-b413-1752c9cbd224",
   "metadata": {},
   "outputs": [],
   "source": [
    "# oofの結果を保存\n",
    "best_th = ths[np.argmax(oof_scores)]\n",
    "best_score = np.max(oof_scores)\n",
    "\n",
    "oof_df = pd.DataFrame(oof)\n",
    "oof_df.to_csv(f'oof/baseline_oof_th{best_th:.2f}_{c_score:.4f}.csv', index=False)"
   ]
  },
  {
   "cell_type": "markdown",
   "id": "8f0034ce-5d86-4e7a-b06d-edd84098c40c",
   "metadata": {},
   "source": [
    "### 結果検証"
   ]
  },
  {
   "cell_type": "code",
   "execution_count": 64,
   "id": "03d435d2-511b-4089-a078-c223096eac86",
   "metadata": {},
   "outputs": [
    {
     "data": {
      "text/html": [
       "<div>\n",
       "<style scoped>\n",
       "    .dataframe tbody tr th:only-of-type {\n",
       "        vertical-align: middle;\n",
       "    }\n",
       "\n",
       "    .dataframe tbody tr th {\n",
       "        vertical-align: top;\n",
       "    }\n",
       "\n",
       "    .dataframe thead th {\n",
       "        text-align: right;\n",
       "    }\n",
       "</style>\n",
       "<table border=\"1\" class=\"dataframe\">\n",
       "  <thead>\n",
       "    <tr style=\"text-align: right;\">\n",
       "      <th></th>\n",
       "      <th>0</th>\n",
       "    </tr>\n",
       "  </thead>\n",
       "  <tbody>\n",
       "    <tr>\n",
       "      <th>0</th>\n",
       "      <td>0.004277</td>\n",
       "    </tr>\n",
       "    <tr>\n",
       "      <th>1</th>\n",
       "      <td>0.027006</td>\n",
       "    </tr>\n",
       "    <tr>\n",
       "      <th>2</th>\n",
       "      <td>0.027006</td>\n",
       "    </tr>\n",
       "    <tr>\n",
       "      <th>3</th>\n",
       "      <td>0.012370</td>\n",
       "    </tr>\n",
       "    <tr>\n",
       "      <th>4</th>\n",
       "      <td>0.008323</td>\n",
       "    </tr>\n",
       "    <tr>\n",
       "      <th>...</th>\n",
       "      <td>...</td>\n",
       "    </tr>\n",
       "    <tr>\n",
       "      <th>820</th>\n",
       "      <td>0.454226</td>\n",
       "    </tr>\n",
       "    <tr>\n",
       "      <th>821</th>\n",
       "      <td>0.070312</td>\n",
       "    </tr>\n",
       "    <tr>\n",
       "      <th>822</th>\n",
       "      <td>0.029495</td>\n",
       "    </tr>\n",
       "    <tr>\n",
       "      <th>823</th>\n",
       "      <td>0.009431</td>\n",
       "    </tr>\n",
       "    <tr>\n",
       "      <th>824</th>\n",
       "      <td>0.075173</td>\n",
       "    </tr>\n",
       "  </tbody>\n",
       "</table>\n",
       "<p>825 rows × 1 columns</p>\n",
       "</div>"
      ],
      "text/plain": [
       "            0\n",
       "0    0.004277\n",
       "1    0.027006\n",
       "2    0.027006\n",
       "3    0.012370\n",
       "4    0.008323\n",
       "..        ...\n",
       "820  0.454226\n",
       "821  0.070312\n",
       "822  0.029495\n",
       "823  0.009431\n",
       "824  0.075173\n",
       "\n",
       "[825 rows x 1 columns]"
      ]
     },
     "execution_count": 64,
     "metadata": {},
     "output_type": "execute_result"
    }
   ],
   "source": [
    "oof_df"
   ]
  },
  {
   "cell_type": "code",
   "execution_count": 69,
   "id": "64349dde-14ae-450a-bd3f-0e856f9e5295",
   "metadata": {},
   "outputs": [],
   "source": [
    "oof_df.columns = [\"oof\"]"
   ]
  },
  {
   "cell_type": "code",
   "execution_count": 70,
   "id": "fa1b9353-1743-4473-8f68-1e3701966ff3",
   "metadata": {
    "scrolled": true
   },
   "outputs": [
    {
     "data": {
      "text/html": [
       "<div>\n",
       "<style scoped>\n",
       "    .dataframe tbody tr th:only-of-type {\n",
       "        vertical-align: middle;\n",
       "    }\n",
       "\n",
       "    .dataframe tbody tr th {\n",
       "        vertical-align: top;\n",
       "    }\n",
       "\n",
       "    .dataframe thead th {\n",
       "        text-align: right;\n",
       "    }\n",
       "</style>\n",
       "<table border=\"1\" class=\"dataframe\">\n",
       "  <thead>\n",
       "    <tr style=\"text-align: right;\">\n",
       "      <th></th>\n",
       "      <th>oof</th>\n",
       "    </tr>\n",
       "  </thead>\n",
       "  <tbody>\n",
       "    <tr>\n",
       "      <th>0</th>\n",
       "      <td>0.004277</td>\n",
       "    </tr>\n",
       "    <tr>\n",
       "      <th>1</th>\n",
       "      <td>0.027006</td>\n",
       "    </tr>\n",
       "    <tr>\n",
       "      <th>2</th>\n",
       "      <td>0.027006</td>\n",
       "    </tr>\n",
       "    <tr>\n",
       "      <th>3</th>\n",
       "      <td>0.012370</td>\n",
       "    </tr>\n",
       "    <tr>\n",
       "      <th>4</th>\n",
       "      <td>0.008323</td>\n",
       "    </tr>\n",
       "    <tr>\n",
       "      <th>...</th>\n",
       "      <td>...</td>\n",
       "    </tr>\n",
       "    <tr>\n",
       "      <th>820</th>\n",
       "      <td>0.454226</td>\n",
       "    </tr>\n",
       "    <tr>\n",
       "      <th>821</th>\n",
       "      <td>0.070312</td>\n",
       "    </tr>\n",
       "    <tr>\n",
       "      <th>822</th>\n",
       "      <td>0.029495</td>\n",
       "    </tr>\n",
       "    <tr>\n",
       "      <th>823</th>\n",
       "      <td>0.009431</td>\n",
       "    </tr>\n",
       "    <tr>\n",
       "      <th>824</th>\n",
       "      <td>0.075173</td>\n",
       "    </tr>\n",
       "  </tbody>\n",
       "</table>\n",
       "<p>825 rows × 1 columns</p>\n",
       "</div>"
      ],
      "text/plain": [
       "          oof\n",
       "0    0.004277\n",
       "1    0.027006\n",
       "2    0.027006\n",
       "3    0.012370\n",
       "4    0.008323\n",
       "..        ...\n",
       "820  0.454226\n",
       "821  0.070312\n",
       "822  0.029495\n",
       "823  0.009431\n",
       "824  0.075173\n",
       "\n",
       "[825 rows x 1 columns]"
      ]
     },
     "execution_count": 70,
     "metadata": {},
     "output_type": "execute_result"
    }
   ],
   "source": [
    "oof_df"
   ]
  },
  {
   "cell_type": "code",
   "execution_count": 71,
   "id": "8564bf16-969d-4b18-9cbb-b51a3932aa0d",
   "metadata": {},
   "outputs": [
    {
     "data": {
      "text/plain": [
       "0.2"
      ]
     },
     "execution_count": 71,
     "metadata": {},
     "output_type": "execute_result"
    }
   ],
   "source": [
    "best_th"
   ]
  },
  {
   "cell_type": "code",
   "execution_count": 73,
   "id": "1376e84c-631d-45d8-a22f-cd44e9f24f99",
   "metadata": {},
   "outputs": [],
   "source": [
    "oof_df[\"pred\"] = oof_df[\"oof\"] > best_th"
   ]
  },
  {
   "cell_type": "code",
   "execution_count": 74,
   "id": "d579f304-0f1b-4478-a584-e71821a4d4de",
   "metadata": {},
   "outputs": [
    {
     "data": {
      "text/plain": [
       "0      False\n",
       "1      False\n",
       "2      False\n",
       "3      False\n",
       "4      False\n",
       "       ...  \n",
       "820     True\n",
       "821    False\n",
       "822    False\n",
       "823    False\n",
       "824    False\n",
       "Name: pred, Length: 825, dtype: bool"
      ]
     },
     "execution_count": 74,
     "metadata": {},
     "output_type": "execute_result"
    }
   ],
   "source": [
    "oof_df[\"pred\"]"
   ]
  },
  {
   "cell_type": "code",
   "execution_count": 75,
   "id": "f649d5db-0ebb-49c8-af84-a8305992d3f6",
   "metadata": {},
   "outputs": [],
   "source": [
    "train_pred = pd.concat([train, oof_df], axis=1)"
   ]
  },
  {
   "cell_type": "code",
   "execution_count": 94,
   "id": "da983cd8-7d15-4d77-b200-fad4c0b47ced",
   "metadata": {},
   "outputs": [],
   "source": [
    "train_pred[\"correct\"] = (train_pred[\"crawds_level_binary\"] == train_pred[\"pred\"])"
   ]
  },
  {
   "cell_type": "code",
   "execution_count": 112,
   "id": "341c2607-ca49-4326-b96a-856bb707b39d",
   "metadata": {},
   "outputs": [
    {
     "name": "stdout",
     "output_type": "stream",
     "text": [
      "[[620  82]\n",
      " [ 24  99]]\n",
      "acc:0.871515, pre:0.546961, rec:0.804878, f1:0.651316\n"
     ]
    },
    {
     "data": {
      "image/png": "[encoded data removed]",
      "text/plain": [
       "<Figure size 1500x200 with 2 Axes>"
      ]
     },
     "metadata": {},
     "output_type": "display_data"
    }
   ],
   "source": [
    "df = train_pred\n",
    "y_valid = df[\"crawds_level_binary\"]\n",
    "valid_pred_binary = df[\"pred\"]\n",
    "print(confusion_matrix(y_valid, valid_pred_binary))\n",
    "print(\"acc:{:3f}, pre:{:3f}, rec:{:3f}, f1:{:3f}\".format(accuracy_score(y_valid, valid_pred_binary), precision_score(y_valid, valid_pred_binary), recall_score(y_valid, valid_pred_binary), f1_score(y_valid, valid_pred_binary)))\n",
    "df[[\"hour\",\"correct\"]].hist(column=\"hour\",by=\"correct\", sharex=True, sharey=True)\n",
    "plt.show()"
   ]
  },
  {
   "cell_type": "code",
   "execution_count": 95,
   "id": "a15d98a6-c03b-4fd7-bca0-cc92df29857b",
   "metadata": {},
   "outputs": [],
   "source": [
    "train_noevent_weekday = train_pred[(train_pred[\"holiday\"] != True) & (train_pred[\"event\"] != True)]\n",
    "train_event_weekday = train_pred[(train_pred[\"holiday\"] != True) & (train_pred[\"event\"] == True)]\n",
    "train_noevent_holiday = train_pred[(train_pred[\"holiday\"] == True) & (train_pred[\"event\"] != True)]\n",
    "train_event_holiday = train_pred[(train_pred[\"holiday\"] == True) & (train_pred[\"event\"] == True)]"
   ]
  },
  {
   "cell_type": "code",
   "execution_count": null,
   "id": "35a7cad7-3578-4906-b13f-e81f05472442",
   "metadata": {},
   "outputs": [],
   "source": [
    "from pylab import rcParams\n",
    "rcParams['figure.figsize'] = 15, 2\n",
    "plt.tight_layout()"
   ]
  },
  {
   "cell_type": "code",
   "execution_count": 121,
   "id": "db263f97-d9bb-4806-b80c-f046d9fa11a0",
   "metadata": {},
   "outputs": [
    {
     "name": "stdout",
     "output_type": "stream",
     "text": [
      "---event:[False], holiday:[False]---\n",
      "対象日数：18\n",
      "[[268   0]\n",
      " [  2   0]]\n",
      "acc:0.992593, pre:0.000000, rec:0.000000, f1:0.000000\n",
      "〇正解ラベル=False(通常以下の混雑)\n"
     ]
    },
    {
     "data": {
      "image/png": "[encoded data removed]",
      "text/plain": [
       "<Figure size 1500x200 with 1 Axes>"
      ]
     },
     "metadata": {},
     "output_type": "display_data"
    },
    {
     "name": "stdout",
     "output_type": "stream",
     "text": [
      "〇正解ラベル=True(混雑)\n"
     ]
    },
    {
     "data": {
      "image/png": "[encoded data removed]",
      "text/plain": [
       "<Figure size 1500x200 with 1 Axes>"
      ]
     },
     "metadata": {},
     "output_type": "display_data"
    },
    {
     "name": "stdout",
     "output_type": "stream",
     "text": [
      "---event:[ True], holiday:[False]---\n",
      "対象日数：20\n",
      "[[255  17]\n",
      " [  9  19]]\n",
      "acc:0.913333, pre:0.527778, rec:0.678571, f1:0.593750\n",
      "〇正解ラベル=False(通常以下の混雑)\n"
     ]
    },
    {
     "data": {
      "image/png": "[encoded data removed]",
      "text/plain": [
       "<Figure size 1500x200 with 2 Axes>"
      ]
     },
     "metadata": {},
     "output_type": "display_data"
    },
    {
     "name": "stdout",
     "output_type": "stream",
     "text": [
      "〇正解ラベル=True(混雑)\n"
     ]
    },
    {
     "data": {
      "image/png": "[encoded data removed]",
      "text/plain": [
       "<Figure size 1500x200 with 2 Axes>"
      ]
     },
     "metadata": {},
     "output_type": "display_data"
    },
    {
     "name": "stdout",
     "output_type": "stream",
     "text": [
      "---event:[False], holiday:[ True]---\n",
      "対象日数：2\n",
      "[[11  9]\n",
      " [ 1  9]]\n",
      "acc:0.666667, pre:0.500000, rec:0.900000, f1:0.642857\n",
      "〇正解ラベル=False(通常以下の混雑)\n"
     ]
    },
    {
     "data": {
      "image/png": "[encoded data removed]",
      "text/plain": [
       "<Figure size 1500x200 with 2 Axes>"
      ]
     },
     "metadata": {},
     "output_type": "display_data"
    },
    {
     "name": "stdout",
     "output_type": "stream",
     "text": [
      "〇正解ラベル=True(混雑)\n"
     ]
    },
    {
     "data": {
      "image/png": "[encoded data removed]",
      "text/plain": [
       "<Figure size 1500x200 with 2 Axes>"
      ]
     },
     "metadata": {},
     "output_type": "display_data"
    },
    {
     "name": "stdout",
     "output_type": "stream",
     "text": [
      "---event:[ True], holiday:[ True]---\n",
      "対象日数：15\n",
      "[[86 56]\n",
      " [12 71]]\n",
      "acc:0.697778, pre:0.559055, rec:0.855422, f1:0.676190\n",
      "〇正解ラベル=False(通常以下の混雑)\n"
     ]
    },
    {
     "data": {
      "image/png": "[encoded data removed]",
      "text/plain": [
       "<Figure size 1500x200 with 2 Axes>"
      ]
     },
     "metadata": {},
     "output_type": "display_data"
    },
    {
     "name": "stdout",
     "output_type": "stream",
     "text": [
      "〇正解ラベル=True(混雑)\n"
     ]
    },
    {
     "data": {
      "image/png": "[encoded data removed]",
      "text/plain": [
       "<Figure size 1500x200 with 2 Axes>"
      ]
     },
     "metadata": {},
     "output_type": "display_data"
    }
   ],
   "source": [
    "for df in [train_noevent_weekday, train_event_weekday, train_noevent_holiday, train_event_holiday]:\n",
    "    y_valid = df[\"crawds_level_binary\"]\n",
    "    print(\"---event:{}, holiday:{}---\".format(df[\"event\"].unique(), df[\"holiday\"].unique()))\n",
    "    print(\"対象日数：{}\".format(len(df[\"date\"].unique())))\n",
    "    valid_pred_binary = df[\"pred\"]\n",
    "    print(confusion_matrix(y_valid, valid_pred_binary))\n",
    "    print(\"acc:{:3f}, pre:{:3f}, rec:{:3f}, f1:{:3f}\".format(accuracy_score(y_valid, valid_pred_binary), precision_score(y_valid, valid_pred_binary), recall_score(y_valid, valid_pred_binary), f1_score(y_valid, valid_pred_binary)))\n",
    "    print(\"〇正解ラベル=False(通常以下の混雑)\")\n",
    "    df[df[\"crawds_level_binary\"]==False][[\"hour\",\"correct\"]].hist(column=\"hour\",by=\"correct\", sharex=True, sharey=True, bins=15, range=[8,22])\n",
    "    plt.show()\n",
    "    print(\"〇正解ラベル=True(混雑)\")\n",
    "    df[df[\"crawds_level_binary\"]==True][[\"hour\",\"correct\"]].hist(column=\"hour\",by=\"correct\", sharex=True, sharey=True, bins=15, range=[8,22])\n",
    "    plt.show()"
   ]
  },
  {
   "cell_type": "code",
   "execution_count": null,
   "id": "e317711b-d63a-43db-b254-d3076e9ff896",
   "metadata": {},
   "outputs": [],
   "source": []
  }
 ],
 "metadata": {
  "kernelspec": {
   "display_name": "Python 3 (ipykernel)",
   "language": "python",
   "name": "python3"
  },
  "language_info": {
   "codemirror_mode": {
    "name": "ipython",
    "version": 3
   },
   "file_extension": ".py",
   "mimetype": "text/x-python",
   "name": "python",
   "nbconvert_exporter": "python",
   "pygments_lexer": "ipython3",
   "version": "3.8.19"
  }
 },
 "nbformat": 4,
 "nbformat_minor": 5
}
