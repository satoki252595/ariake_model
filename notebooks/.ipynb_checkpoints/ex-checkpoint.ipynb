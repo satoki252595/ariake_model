{
 "cells": [
  {
   "cell_type": "code",
   "execution_count": 1,
   "id": "04e4d14c-69f8-4f6d-9ab1-bedc41680269",
   "metadata": {},
   "outputs": [
    {
     "name": "stdout",
     "output_type": "stream",
     "text": [
      "Tables in the database:\n"
     ]
    }
   ],
   "source": [
    "import psycopg2\n",
    "import pandas as pd\n",
    "\n",
    "# データベース接続情報\n",
    "dbname = 'sga_test1'\n",
    "user = 'postgres'\n",
    "password = 'postgres'\n",
    "host = 'db'  # docker-compose のサービス名を使用\n",
    "\n",
    "# データベースに接続\n",
    "conn = psycopg2.connect(dbname=dbname, user=user, password=password, host=host)\n",
    "\n",
    "# カーソルを作成\n",
    "cur = conn.cursor()\n",
    "\n",
    "# テーブル一覧を取得\n",
    "cur.execute(\"SELECT table_name FROM information_schema.tables WHERE table_schema = 'public';\")\n",
    "tables = cur.fetchall()\n",
    "\n",
    "# テーブル一覧を表示\n",
    "print(\"Tables in the database:\")\n",
    "for table in tables:\n",
    "    print(table)\n",
    "\n",
    "# データをクエリして表示\n",
    "# query = \"SELECT * FROM users;\"  # 例として 'users' テーブルをクエリ\n",
    "# df = pd.read_sql_query(query, conn)\n",
    "# print(df)\n",
    "\n",
    "# 接続を閉じる\n",
    "cur.close()\n",
    "conn.close()"
   ]
  },
  {
   "cell_type": "code",
   "execution_count": 4,
   "id": "33b340f5-ea5e-4531-9b4f-437256413161",
   "metadata": {},
   "outputs": [
    {
     "name": "stdout",
     "output_type": "stream",
     "text": [
      "Collecting psycopg2-binary\n",
      "  Downloading psycopg2_binary-2.9.10-cp311-cp311-manylinux_2_17_aarch64.manylinux2014_aarch64.whl.metadata (4.9 kB)\n",
      "Downloading psycopg2_binary-2.9.10-cp311-cp311-manylinux_2_17_aarch64.manylinux2014_aarch64.whl (2.9 MB)\n",
      "\u001b[2K   \u001b[90m━━━━━━━━━━━━━━━━━━━━━━━━━━━━━━━━━━━━━━━━\u001b[0m \u001b[32m2.9/2.9 MB\u001b[0m \u001b[31m29.3 MB/s\u001b[0m eta \u001b[36m0:00:00\u001b[0ma \u001b[36m0:00:01\u001b[0m\n",
      "\u001b[?25hInstalling collected packages: psycopg2-binary\n",
      "Successfully installed psycopg2-binary-2.9.10\n"
     ]
    }
   ],
   "source": [
    "!pip install psycopg2-binary"
   ]
  },
  {
   "cell_type": "code",
   "execution_count": null,
   "id": "c26e11a9-ccaa-4803-9528-c9e792032200",
   "metadata": {},
   "outputs": [],
   "source": []
  }
 ],
 "metadata": {
  "kernelspec": {
   "display_name": "Python 3 (ipykernel)",
   "language": "python",
   "name": "python3"
  },
  "language_info": {
   "codemirror_mode": {
    "name": "ipython",
    "version": 3
   },
   "file_extension": ".py",
   "mimetype": "text/x-python",
   "name": "python",
   "nbconvert_exporter": "python",
   "pygments_lexer": "ipython3",
   "version": "3.11.6"
  }
 },
 "nbformat": 4,
 "nbformat_minor": 5
}
